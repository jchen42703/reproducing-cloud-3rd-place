{
 "cells": [
  {
   "cell_type": "markdown",
   "metadata": {},
   "source": [
    "# Do I need to use `cv2.cvtColor(..., cv2.COLOR_BGR2RGB)`?\n",
    "* __Reason:__\n",
    "    * the 3rd place solution's code uses it:\n",
    "    ```\n",
    "    def preprocess_image(image_names, run_root=DATA_ROOT, out_root=OUTPUT_DIR, size=SIZE):\n",
    "        for i in tqdm(range(len(image_names))):\n",
    "            image_name = image_names[i]\n",
    "            path = run_root+image_name\n",
    "            img = cv2.imread(path)\n",
    "            img = cv2.cvtColor(img, cv2.COLOR_BGR2RGB)\n",
    "            H, W, C = img.shape\n",
    "            new_H = int(SIZE)\n",
    "            new_W = int(W/H*SIZE)\n",
    "            img = cv2.resize(img, (new_W, new_H))\n",
    "            img = cv2.cvtColor(img, cv2.COLOR_RGB2BGR)\n",
    "            cv2.imwrite(OUTPUT_DIR + image_name, img)\n",
    "    ```\n",
    "    * Mine looks like this:\n",
    "    ```\n",
    "    def convert_images(filename, arch_out, file_type, out_shape=(640, 320)):\n",
    "    \"\"\"\n",
    "    Reads an image and converts it to a desired file format\n",
    "    \"\"\"\n",
    "    img = np.array(cv2.imread(filename))\n",
    "\n",
    "    img = cv2.resize(img, out_shape)\n",
    "    output = cv2.imencode(file_type, img)[1]\n",
    "    name = f\"{Path(filename).stem}{file_type}\"\n",
    "    arch_out.writestr(name, output)\n",
    "    ```"
   ]
  },
  {
   "cell_type": "markdown",
   "metadata": {},
   "source": [
    "The experiment here is to test the tangible differences between my pipeline and the 3rd place one. Both are:\n",
    "* resized to (384, 576) ((576, 384) for cv2)\n",
    "* saved as .jpg files in `dset_dir/output`"
   ]
  },
  {
   "cell_type": "code",
   "execution_count": 4,
   "metadata": {},
   "outputs": [],
   "source": [
    "import os\n",
    "import cv2\n",
    "\n",
    "dset_dir = r\"C:\\Users\\jchen\\Desktop\\Datasets\\Understanding Clouds\"\n",
    "ex_img_fname = \"test_image.jpg\"\n",
    "\n",
    "def preprocess_3rd_place(img_name, in_dir, out_dir, resize_size=(576, 384)):\n",
    "    img = cv2.imread(os.path.join(in_dir, img_name))\n",
    "    img = cv2.cvtColor(img, cv2.COLOR_BGR2RGB)\n",
    "    img = cv2.resize(img, resize_size)\n",
    "    img = cv2.cvtColor(img, cv2.COLOR_RGB2BGR)\n",
    "    return img\n",
    "    \n",
    "def preprocess_mine(img_name, in_dir, out_dir, resize_size=(576, 384)):\n",
    "    img = cv2.imread(os.path.join(in_dir, img_name))\n",
    "    img = cv2.resize(img, resize_size)\n",
    "    return img\n",
    "\n",
    "fn_kwargs = {\n",
    "    \"img_name\": ex_img_fname,\n",
    "    \"in_dir\": dset_dir,\n",
    "    \"out_dir\": os.path.join(dset_dir, \"output\"),\n",
    "    \"resize_size\": (576, 384),\n",
    "}"
   ]
  },
  {
   "cell_type": "code",
   "execution_count": 6,
   "metadata": {},
   "outputs": [
    {
     "data": {
      "text/plain": [
       "((384, 576, 3), (384, 576, 3))"
      ]
     },
     "execution_count": 6,
     "metadata": {},
     "output_type": "execute_result"
    }
   ],
   "source": [
    "import numpy as np\n",
    "img_3rd = np.array(preprocess_3rd_place(**fn_kwargs))\n",
    "img_mine = np.array(preprocess_mine(**fn_kwargs))\n",
    "img_3rd.shape, img_mine.shape"
   ]
  },
  {
   "cell_type": "code",
   "execution_count": 7,
   "metadata": {},
   "outputs": [
    {
     "data": {
      "text/plain": [
       "True"
      ]
     },
     "execution_count": 7,
     "metadata": {},
     "output_type": "execute_result"
    }
   ],
   "source": [
    "np.array_equal(img_3rd, img_mine)"
   ]
  },
  {
   "cell_type": "markdown",
   "metadata": {},
   "source": [
    "There is no difference. Maybe resolution is a reason for the difference in performance?"
   ]
  },
  {
   "cell_type": "markdown",
   "metadata": {},
   "source": [
    "# Testing Mask Creation (3rd Place v. Mine)"
   ]
  },
  {
   "cell_type": "code",
   "execution_count": null,
   "metadata": {},
   "outputs": [],
   "source": []
  },
  {
   "cell_type": "markdown",
   "metadata": {},
   "source": [
    "# Comparing 3rd Place Pipeline with Mine"
   ]
  },
  {
   "cell_type": "code",
   "execution_count": null,
   "metadata": {},
   "outputs": [],
   "source": []
  }
 ],
 "metadata": {
  "kernelspec": {
   "display_name": "Python 3",
   "language": "python",
   "name": "python3"
  },
  "language_info": {
   "codemirror_mode": {
    "name": "ipython",
    "version": 3
   },
   "file_extension": ".py",
   "mimetype": "text/x-python",
   "name": "python",
   "nbconvert_exporter": "python",
   "pygments_lexer": "ipython3",
   "version": "3.6.8"
  },
  "toc": {
   "base_numbering": 1,
   "nav_menu": {},
   "number_sections": true,
   "sideBar": true,
   "skip_h1_title": false,
   "title_cell": "Table of Contents",
   "title_sidebar": "Contents",
   "toc_cell": false,
   "toc_position": {},
   "toc_section_display": true,
   "toc_window_display": false
  }
 },
 "nbformat": 4,
 "nbformat_minor": 2
}
